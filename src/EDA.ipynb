{
 "cells": [
  {
   "cell_type": "code",
   "execution_count": 3,
   "metadata": {},
   "outputs": [],
   "source": [
    "import numpy as np\n",
    "import pandas as pd\n",
    "import matplotlib.pyplot as plt\n",
    "%matplotlib inline\n",
    "\n",
    "train = pd.read_csv(\"D:\\\\Project\\\\NLP_Disaster\\\\data\\\\train.csv\")\n",
    "test = pd.read_csv(\"D:\\\\Project\\\\NLP_Disaster\\\\data\\\\test.csv\")"
   ]
  },
  {
   "cell_type": "code",
   "execution_count": 11,
   "metadata": {},
   "outputs": [
    {
     "name": "stdout",
     "output_type": "stream",
     "text": [
      "7613 3271 4342\n"
     ]
    }
   ],
   "source": [
    "n_train = len(train.index)\n",
    "positive = len(train.query('target == 1'))\n",
    "negative = len(train.query('target == 0'))\n",
    "print(n_train, positive, negative)"
   ]
  },
  {
   "cell_type": "code",
   "execution_count": 14,
   "metadata": {},
   "outputs": [
    {
     "name": "stdout",
     "output_type": "stream",
     "text": [
      "0        69\n",
      "1        38\n",
      "2       133\n",
      "3        65\n",
      "4        88\n",
      "       ... \n",
      "7608     83\n",
      "7609    125\n",
      "7610     65\n",
      "7611    137\n",
      "7612     94\n",
      "Name: text, Length: 7613, dtype: int64\n"
     ]
    }
   ],
   "source": [
    "sentences_length = train['text'].str.len()\n",
    "print(sentences_length)"
   ]
  }
 ],
 "metadata": {
  "interpreter": {
   "hash": "f8ea1e4029eb05933e0b083e5b51cc2ec33c6bd99bf15186b5910f0ed545c606"
  },
  "kernelspec": {
   "display_name": "Python 3.7.13 ('nlp')",
   "language": "python",
   "name": "python3"
  },
  "language_info": {
   "codemirror_mode": {
    "name": "ipython",
    "version": 3
   },
   "file_extension": ".py",
   "mimetype": "text/x-python",
   "name": "python",
   "nbconvert_exporter": "python",
   "pygments_lexer": "ipython3",
   "version": "3.7.13"
  },
  "orig_nbformat": 4
 },
 "nbformat": 4,
 "nbformat_minor": 2
}
